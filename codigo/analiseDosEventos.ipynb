{
 "cells": [
  {
   "cell_type": "code",
   "execution_count": 16,
   "metadata": {},
   "outputs": [],
   "source": [
    "import pandas as pd\n",
    "import plotly.express as px\n",
    "import plotly.graph_objects as go"
   ]
  },
  {
   "cell_type": "markdown",
   "metadata": {},
   "source": [
    "## Lendo a base de dados"
   ]
  },
  {
   "cell_type": "code",
   "execution_count": 17,
   "metadata": {},
   "outputs": [
    {
     "data": {
      "text/html": [
       "<div>\n",
       "<style scoped>\n",
       "    .dataframe tbody tr th:only-of-type {\n",
       "        vertical-align: middle;\n",
       "    }\n",
       "\n",
       "    .dataframe tbody tr th {\n",
       "        vertical-align: top;\n",
       "    }\n",
       "\n",
       "    .dataframe thead th {\n",
       "        text-align: right;\n",
       "    }\n",
       "</style>\n",
       "<table border=\"1\" class=\"dataframe\">\n",
       "  <thead>\n",
       "    <tr style=\"text-align: right;\">\n",
       "      <th></th>\n",
       "      <th>edition</th>\n",
       "      <th>edition_id</th>\n",
       "      <th>country_noc</th>\n",
       "      <th>sport</th>\n",
       "      <th>event</th>\n",
       "      <th>result_id</th>\n",
       "      <th>athlete</th>\n",
       "      <th>athlete_id</th>\n",
       "      <th>pos</th>\n",
       "      <th>medal</th>\n",
       "      <th>isTeamSport</th>\n",
       "    </tr>\n",
       "  </thead>\n",
       "  <tbody>\n",
       "    <tr>\n",
       "      <th>0</th>\n",
       "      <td>1908 Summer Olympics</td>\n",
       "      <td>5</td>\n",
       "      <td>ANZ</td>\n",
       "      <td>Athletics</td>\n",
       "      <td>100 metres, Men</td>\n",
       "      <td>56265</td>\n",
       "      <td>Ernest Hutcheon</td>\n",
       "      <td>64710</td>\n",
       "      <td>DNS</td>\n",
       "      <td>NaN</td>\n",
       "      <td>False</td>\n",
       "    </tr>\n",
       "    <tr>\n",
       "      <th>1</th>\n",
       "      <td>1908 Summer Olympics</td>\n",
       "      <td>5</td>\n",
       "      <td>ANZ</td>\n",
       "      <td>Athletics</td>\n",
       "      <td>400 metres, Men</td>\n",
       "      <td>56313</td>\n",
       "      <td>Henry Murray</td>\n",
       "      <td>64756</td>\n",
       "      <td>DNS</td>\n",
       "      <td>NaN</td>\n",
       "      <td>False</td>\n",
       "    </tr>\n",
       "    <tr>\n",
       "      <th>2</th>\n",
       "      <td>1908 Summer Olympics</td>\n",
       "      <td>5</td>\n",
       "      <td>ANZ</td>\n",
       "      <td>Athletics</td>\n",
       "      <td>800 metres, Men</td>\n",
       "      <td>56338</td>\n",
       "      <td>Harvey Sutton</td>\n",
       "      <td>64808</td>\n",
       "      <td>3 h8 r1/2</td>\n",
       "      <td>NaN</td>\n",
       "      <td>False</td>\n",
       "    </tr>\n",
       "    <tr>\n",
       "      <th>3</th>\n",
       "      <td>1908 Summer Olympics</td>\n",
       "      <td>5</td>\n",
       "      <td>ANZ</td>\n",
       "      <td>Athletics</td>\n",
       "      <td>800 metres, Men</td>\n",
       "      <td>56338</td>\n",
       "      <td>Guy Haskins</td>\n",
       "      <td>922519</td>\n",
       "      <td>DNS</td>\n",
       "      <td>NaN</td>\n",
       "      <td>False</td>\n",
       "    </tr>\n",
       "    <tr>\n",
       "      <th>4</th>\n",
       "      <td>1908 Summer Olympics</td>\n",
       "      <td>5</td>\n",
       "      <td>ANZ</td>\n",
       "      <td>Athletics</td>\n",
       "      <td>800 metres, Men</td>\n",
       "      <td>56338</td>\n",
       "      <td>Joseph Lynch</td>\n",
       "      <td>64735</td>\n",
       "      <td>DNS</td>\n",
       "      <td>NaN</td>\n",
       "      <td>False</td>\n",
       "    </tr>\n",
       "    <tr>\n",
       "      <th>...</th>\n",
       "      <td>...</td>\n",
       "      <td>...</td>\n",
       "      <td>...</td>\n",
       "      <td>...</td>\n",
       "      <td>...</td>\n",
       "      <td>...</td>\n",
       "      <td>...</td>\n",
       "      <td>...</td>\n",
       "      <td>...</td>\n",
       "      <td>...</td>\n",
       "      <td>...</td>\n",
       "    </tr>\n",
       "    <tr>\n",
       "      <th>316829</th>\n",
       "      <td>2022 Winter Olympics</td>\n",
       "      <td>62</td>\n",
       "      <td>NED</td>\n",
       "      <td>Bobsleigh</td>\n",
       "      <td>Monobob, Women</td>\n",
       "      <td>19019671</td>\n",
       "      <td>Karlien Sleper</td>\n",
       "      <td>148662</td>\n",
       "      <td>16</td>\n",
       "      <td>NaN</td>\n",
       "      <td>False</td>\n",
       "    </tr>\n",
       "    <tr>\n",
       "      <th>316830</th>\n",
       "      <td>2022 Winter Olympics</td>\n",
       "      <td>62</td>\n",
       "      <td>SVK</td>\n",
       "      <td>Bobsleigh</td>\n",
       "      <td>Monobob, Women</td>\n",
       "      <td>19019671</td>\n",
       "      <td>Viktória Čerňanská</td>\n",
       "      <td>138683</td>\n",
       "      <td>17</td>\n",
       "      <td>NaN</td>\n",
       "      <td>False</td>\n",
       "    </tr>\n",
       "    <tr>\n",
       "      <th>316831</th>\n",
       "      <td>2022 Winter Olympics</td>\n",
       "      <td>62</td>\n",
       "      <td>KOR</td>\n",
       "      <td>Bobsleigh</td>\n",
       "      <td>Monobob, Women</td>\n",
       "      <td>19019671</td>\n",
       "      <td>Kim Yu-Ran</td>\n",
       "      <td>137542</td>\n",
       "      <td>18</td>\n",
       "      <td>NaN</td>\n",
       "      <td>False</td>\n",
       "    </tr>\n",
       "    <tr>\n",
       "      <th>316832</th>\n",
       "      <td>2022 Winter Olympics</td>\n",
       "      <td>62</td>\n",
       "      <td>JAM</td>\n",
       "      <td>Bobsleigh</td>\n",
       "      <td>Monobob, Women</td>\n",
       "      <td>19019671</td>\n",
       "      <td>Jazmine Fenlator-Victorian</td>\n",
       "      <td>128682</td>\n",
       "      <td>19</td>\n",
       "      <td>NaN</td>\n",
       "      <td>False</td>\n",
       "    </tr>\n",
       "    <tr>\n",
       "      <th>316833</th>\n",
       "      <td>2022 Winter Olympics</td>\n",
       "      <td>62</td>\n",
       "      <td>UKR</td>\n",
       "      <td>Bobsleigh</td>\n",
       "      <td>Monobob, Women</td>\n",
       "      <td>19019671</td>\n",
       "      <td>Lidiya Hunko</td>\n",
       "      <td>149047</td>\n",
       "      <td>20</td>\n",
       "      <td>NaN</td>\n",
       "      <td>False</td>\n",
       "    </tr>\n",
       "  </tbody>\n",
       "</table>\n",
       "<p>316834 rows × 11 columns</p>\n",
       "</div>"
      ],
      "text/plain": [
       "                     edition  edition_id country_noc      sport  \\\n",
       "0       1908 Summer Olympics           5         ANZ  Athletics   \n",
       "1       1908 Summer Olympics           5         ANZ  Athletics   \n",
       "2       1908 Summer Olympics           5         ANZ  Athletics   \n",
       "3       1908 Summer Olympics           5         ANZ  Athletics   \n",
       "4       1908 Summer Olympics           5         ANZ  Athletics   \n",
       "...                      ...         ...         ...        ...   \n",
       "316829  2022 Winter Olympics          62         NED  Bobsleigh   \n",
       "316830  2022 Winter Olympics          62         SVK  Bobsleigh   \n",
       "316831  2022 Winter Olympics          62         KOR  Bobsleigh   \n",
       "316832  2022 Winter Olympics          62         JAM  Bobsleigh   \n",
       "316833  2022 Winter Olympics          62         UKR  Bobsleigh   \n",
       "\n",
       "                  event  result_id                     athlete  athlete_id  \\\n",
       "0       100 metres, Men      56265             Ernest Hutcheon       64710   \n",
       "1       400 metres, Men      56313                Henry Murray       64756   \n",
       "2       800 metres, Men      56338               Harvey Sutton       64808   \n",
       "3       800 metres, Men      56338                 Guy Haskins      922519   \n",
       "4       800 metres, Men      56338                Joseph Lynch       64735   \n",
       "...                 ...        ...                         ...         ...   \n",
       "316829   Monobob, Women   19019671              Karlien Sleper      148662   \n",
       "316830   Monobob, Women   19019671          Viktória Čerňanská      138683   \n",
       "316831   Monobob, Women   19019671                  Kim Yu-Ran      137542   \n",
       "316832   Monobob, Women   19019671  Jazmine Fenlator-Victorian      128682   \n",
       "316833   Monobob, Women   19019671                Lidiya Hunko      149047   \n",
       "\n",
       "              pos medal  isTeamSport  \n",
       "0             DNS   NaN        False  \n",
       "1             DNS   NaN        False  \n",
       "2       3 h8 r1/2   NaN        False  \n",
       "3             DNS   NaN        False  \n",
       "4             DNS   NaN        False  \n",
       "...           ...   ...          ...  \n",
       "316829         16   NaN        False  \n",
       "316830         17   NaN        False  \n",
       "316831         18   NaN        False  \n",
       "316832         19   NaN        False  \n",
       "316833         20   NaN        False  \n",
       "\n",
       "[316834 rows x 11 columns]"
      ]
     },
     "execution_count": 17,
     "metadata": {},
     "output_type": "execute_result"
    }
   ],
   "source": [
    "df=pd.read_csv(\"Olympic_Athlete_Event_Results.csv\")\n",
    "df"
   ]
  },
  {
   "cell_type": "markdown",
   "metadata": {},
   "source": [
    "## Analisando os valores vazios"
   ]
  },
  {
   "cell_type": "code",
   "execution_count": 18,
   "metadata": {},
   "outputs": [
    {
     "data": {
      "text/plain": [
       "edition             0\n",
       "edition_id          0\n",
       "country_noc         0\n",
       "sport               0\n",
       "event               0\n",
       "result_id           0\n",
       "athlete             0\n",
       "athlete_id          0\n",
       "pos                 0\n",
       "medal          272147\n",
       "isTeamSport         0\n",
       "dtype: int64"
      ]
     },
     "execution_count": 18,
     "metadata": {},
     "output_type": "execute_result"
    }
   ],
   "source": [
    "df.isnull().sum()"
   ]
  },
  {
   "cell_type": "markdown",
   "metadata": {},
   "source": [
    "## Analisando o pais com mais medalhas"
   ]
  },
  {
   "cell_type": "code",
   "execution_count": 19,
   "metadata": {},
   "outputs": [
    {
     "data": {
      "text/html": [
       "<div>\n",
       "<style scoped>\n",
       "    .dataframe tbody tr th:only-of-type {\n",
       "        vertical-align: middle;\n",
       "    }\n",
       "\n",
       "    .dataframe tbody tr th {\n",
       "        vertical-align: top;\n",
       "    }\n",
       "\n",
       "    .dataframe thead th {\n",
       "        text-align: right;\n",
       "    }\n",
       "</style>\n",
       "<table border=\"1\" class=\"dataframe\">\n",
       "  <thead>\n",
       "    <tr style=\"text-align: right;\">\n",
       "      <th></th>\n",
       "      <th>country_noc</th>\n",
       "      <th>count</th>\n",
       "    </tr>\n",
       "  </thead>\n",
       "  <tbody>\n",
       "    <tr>\n",
       "      <th>0</th>\n",
       "      <td>USA</td>\n",
       "      <td>6294</td>\n",
       "    </tr>\n",
       "    <tr>\n",
       "      <th>1</th>\n",
       "      <td>URS</td>\n",
       "      <td>2546</td>\n",
       "    </tr>\n",
       "    <tr>\n",
       "      <th>2</th>\n",
       "      <td>GER</td>\n",
       "      <td>2444</td>\n",
       "    </tr>\n",
       "    <tr>\n",
       "      <th>3</th>\n",
       "      <td>GBR</td>\n",
       "      <td>2372</td>\n",
       "    </tr>\n",
       "    <tr>\n",
       "      <th>4</th>\n",
       "      <td>FRA</td>\n",
       "      <td>1976</td>\n",
       "    </tr>\n",
       "    <tr>\n",
       "      <th>...</th>\n",
       "      <td>...</td>\n",
       "      <td>...</td>\n",
       "    </tr>\n",
       "    <tr>\n",
       "      <th>149</th>\n",
       "      <td>GUA</td>\n",
       "      <td>1</td>\n",
       "    </tr>\n",
       "    <tr>\n",
       "      <th>150</th>\n",
       "      <td>IRQ</td>\n",
       "      <td>1</td>\n",
       "    </tr>\n",
       "    <tr>\n",
       "      <th>151</th>\n",
       "      <td>SAM</td>\n",
       "      <td>1</td>\n",
       "    </tr>\n",
       "    <tr>\n",
       "      <th>152</th>\n",
       "      <td>MON</td>\n",
       "      <td>1</td>\n",
       "    </tr>\n",
       "    <tr>\n",
       "      <th>153</th>\n",
       "      <td>AHO</td>\n",
       "      <td>1</td>\n",
       "    </tr>\n",
       "  </tbody>\n",
       "</table>\n",
       "<p>154 rows × 2 columns</p>\n",
       "</div>"
      ],
      "text/plain": [
       "    country_noc  count\n",
       "0           USA   6294\n",
       "1           URS   2546\n",
       "2           GER   2444\n",
       "3           GBR   2372\n",
       "4           FRA   1976\n",
       "..          ...    ...\n",
       "149         GUA      1\n",
       "150         IRQ      1\n",
       "151         SAM      1\n",
       "152         MON      1\n",
       "153         AHO      1\n",
       "\n",
       "[154 rows x 2 columns]"
      ]
     },
     "execution_count": 19,
     "metadata": {},
     "output_type": "execute_result"
    }
   ],
   "source": [
    "baseSemNUll=df.dropna()\n",
    "\n",
    "paisesComMaisMedalhas=baseSemNUll[\"country_noc\"].value_counts().reset_index()\n",
    "paisesComMaisMedalhas"
   ]
  },
  {
   "cell_type": "code",
   "execution_count": 20,
   "metadata": {},
   "outputs": [
    {
     "data": {
      "text/html": [
       "<div>\n",
       "<style scoped>\n",
       "    .dataframe tbody tr th:only-of-type {\n",
       "        vertical-align: middle;\n",
       "    }\n",
       "\n",
       "    .dataframe tbody tr th {\n",
       "        vertical-align: top;\n",
       "    }\n",
       "\n",
       "    .dataframe thead th {\n",
       "        text-align: right;\n",
       "    }\n",
       "</style>\n",
       "<table border=\"1\" class=\"dataframe\">\n",
       "  <thead>\n",
       "    <tr style=\"text-align: right;\">\n",
       "      <th></th>\n",
       "      <th>medal</th>\n",
       "      <th>count</th>\n",
       "    </tr>\n",
       "  </thead>\n",
       "  <tbody>\n",
       "    <tr>\n",
       "      <th>0</th>\n",
       "      <td>Gold</td>\n",
       "      <td>15072</td>\n",
       "    </tr>\n",
       "    <tr>\n",
       "      <th>1</th>\n",
       "      <td>Bronze</td>\n",
       "      <td>14939</td>\n",
       "    </tr>\n",
       "    <tr>\n",
       "      <th>2</th>\n",
       "      <td>Silver</td>\n",
       "      <td>14676</td>\n",
       "    </tr>\n",
       "  </tbody>\n",
       "</table>\n",
       "</div>"
      ],
      "text/plain": [
       "    medal  count\n",
       "0    Gold  15072\n",
       "1  Bronze  14939\n",
       "2  Silver  14676"
      ]
     },
     "execution_count": 20,
     "metadata": {},
     "output_type": "execute_result"
    }
   ],
   "source": [
    "baseSemNUll\n",
    "d=baseSemNUll[\"medal\"].value_counts().reset_index()\n",
    "d"
   ]
  },
  {
   "cell_type": "markdown",
   "metadata": {},
   "source": [
    "## Analisando o Melhor Atleta"
   ]
  },
  {
   "cell_type": "code",
   "execution_count": 21,
   "metadata": {},
   "outputs": [
    {
     "name": "stderr",
     "output_type": "stream",
     "text": [
      "C:\\Users\\rianf\\AppData\\Local\\Temp\\ipykernel_14960\\2983228215.py:9: SettingWithCopyWarning:\n",
      "\n",
      "\n",
      "A value is trying to be set on a copy of a slice from a DataFrame.\n",
      "Try using .loc[row_indexer,col_indexer] = value instead\n",
      "\n",
      "See the caveats in the documentation: https://pandas.pydata.org/pandas-docs/stable/user_guide/indexing.html#returning-a-view-versus-a-copy\n",
      "\n"
     ]
    },
    {
     "data": {
      "text/html": [
       "<div>\n",
       "<style scoped>\n",
       "    .dataframe tbody tr th:only-of-type {\n",
       "        vertical-align: middle;\n",
       "    }\n",
       "\n",
       "    .dataframe tbody tr th {\n",
       "        vertical-align: top;\n",
       "    }\n",
       "\n",
       "    .dataframe thead th {\n",
       "        text-align: right;\n",
       "    }\n",
       "</style>\n",
       "<table border=\"1\" class=\"dataframe\">\n",
       "  <thead>\n",
       "    <tr style=\"text-align: right;\">\n",
       "      <th></th>\n",
       "      <th>athlete</th>\n",
       "      <th>medalPoint</th>\n",
       "    </tr>\n",
       "  </thead>\n",
       "  <tbody>\n",
       "    <tr>\n",
       "      <th>0</th>\n",
       "      <td>Michael Phelps</td>\n",
       "      <td>77</td>\n",
       "    </tr>\n",
       "    <tr>\n",
       "      <th>1</th>\n",
       "      <td>Larisa Latynina</td>\n",
       "      <td>41</td>\n",
       "    </tr>\n",
       "    <tr>\n",
       "      <th>2</th>\n",
       "      <td>Marit Bjørgen</td>\n",
       "      <td>35</td>\n",
       "    </tr>\n",
       "    <tr>\n",
       "      <th>3</th>\n",
       "      <td>Jenny Thompson</td>\n",
       "      <td>34</td>\n",
       "    </tr>\n",
       "    <tr>\n",
       "      <th>4</th>\n",
       "      <td>Nikolay Andrianov</td>\n",
       "      <td>34</td>\n",
       "    </tr>\n",
       "    <tr>\n",
       "      <th>...</th>\n",
       "      <td>...</td>\n",
       "      <td>...</td>\n",
       "    </tr>\n",
       "    <tr>\n",
       "      <th>31638</th>\n",
       "      <td>Peter Nordell</td>\n",
       "      <td>1</td>\n",
       "    </tr>\n",
       "    <tr>\n",
       "      <th>31639</th>\n",
       "      <td>Peter Nottet</td>\n",
       "      <td>1</td>\n",
       "    </tr>\n",
       "    <tr>\n",
       "      <th>31640</th>\n",
       "      <td>Gus Desch</td>\n",
       "      <td>1</td>\n",
       "    </tr>\n",
       "    <tr>\n",
       "      <th>31641</th>\n",
       "      <td>Gurjant Singh</td>\n",
       "      <td>1</td>\n",
       "    </tr>\n",
       "    <tr>\n",
       "      <th>31642</th>\n",
       "      <td>Ștefan Tudor</td>\n",
       "      <td>1</td>\n",
       "    </tr>\n",
       "  </tbody>\n",
       "</table>\n",
       "<p>31643 rows × 2 columns</p>\n",
       "</div>"
      ],
      "text/plain": [
       "                 athlete  medalPoint\n",
       "0         Michael Phelps          77\n",
       "1        Larisa Latynina          41\n",
       "2          Marit Bjørgen          35\n",
       "3         Jenny Thompson          34\n",
       "4      Nikolay Andrianov          34\n",
       "...                  ...         ...\n",
       "31638      Peter Nordell           1\n",
       "31639       Peter Nottet           1\n",
       "31640          Gus Desch           1\n",
       "31641      Gurjant Singh           1\n",
       "31642       Ștefan Tudor           1\n",
       "\n",
       "[31643 rows x 2 columns]"
      ]
     },
     "execution_count": 21,
     "metadata": {},
     "output_type": "execute_result"
    }
   ],
   "source": [
    "def medal(value):\n",
    "    if value ==\"Bronze\":\n",
    "        return 1\n",
    "    elif value ==\"Silver\":\n",
    "        return 2\n",
    "    else:\n",
    "        return 3\n",
    "\n",
    "baseSemNUll[\"medalPoint\"]=baseSemNUll[\"medal\"].apply(medal)\n",
    "\n",
    "baseSemNUll\n",
    "melhorAtleta=baseSemNUll[[\"athlete\", \"medalPoint\"]]. groupby(\"athlete\"). sum().sort_values(by=\"medalPoint\", ascending=False).reset_index()\n",
    "melhorAtleta\n"
   ]
  },
  {
   "cell_type": "markdown",
   "metadata": {},
   "source": [
    "## Analisando os total de medalhas de ouro, prata e bronze do país com mais medalhas olimpicas"
   ]
  },
  {
   "cell_type": "code",
   "execution_count": 22,
   "metadata": {},
   "outputs": [
    {
     "data": {
      "text/html": [
       "<div>\n",
       "<style scoped>\n",
       "    .dataframe tbody tr th:only-of-type {\n",
       "        vertical-align: middle;\n",
       "    }\n",
       "\n",
       "    .dataframe tbody tr th {\n",
       "        vertical-align: top;\n",
       "    }\n",
       "\n",
       "    .dataframe thead th {\n",
       "        text-align: right;\n",
       "    }\n",
       "</style>\n",
       "<table border=\"1\" class=\"dataframe\">\n",
       "  <thead>\n",
       "    <tr style=\"text-align: right;\">\n",
       "      <th></th>\n",
       "      <th>medal</th>\n",
       "      <th>count</th>\n",
       "    </tr>\n",
       "  </thead>\n",
       "  <tbody>\n",
       "    <tr>\n",
       "      <th>0</th>\n",
       "      <td>Gold</td>\n",
       "      <td>2942</td>\n",
       "    </tr>\n",
       "    <tr>\n",
       "      <th>1</th>\n",
       "      <td>Silver</td>\n",
       "      <td>1855</td>\n",
       "    </tr>\n",
       "    <tr>\n",
       "      <th>2</th>\n",
       "      <td>Bronze</td>\n",
       "      <td>1497</td>\n",
       "    </tr>\n",
       "  </tbody>\n",
       "</table>\n",
       "</div>"
      ],
      "text/plain": [
       "    medal  count\n",
       "0    Gold   2942\n",
       "1  Silver   1855\n",
       "2  Bronze   1497"
      ]
     },
     "execution_count": 22,
     "metadata": {},
     "output_type": "execute_result"
    }
   ],
   "source": [
    "usa=baseSemNUll.loc[baseSemNUll[\"country_noc\"]==\"USA\"]\n",
    "usa[\"medal\"].value_counts().reset_index()"
   ]
  },
  {
   "cell_type": "markdown",
   "metadata": {},
   "source": [
    "## Analisando a quantidade de olimpiadas"
   ]
  },
  {
   "cell_type": "code",
   "execution_count": 23,
   "metadata": {},
   "outputs": [
    {
     "data": {
      "text/plain": [
       "55"
      ]
     },
     "execution_count": 23,
     "metadata": {},
     "output_type": "execute_result"
    }
   ],
   "source": [
    "d=len(df[\"edition\"].unique())\n",
    "d\n"
   ]
  },
  {
   "cell_type": "markdown",
   "metadata": {},
   "source": [
    "## Adicionando o Sexo dos atletas para uma coluna"
   ]
  },
  {
   "cell_type": "code",
   "execution_count": 24,
   "metadata": {},
   "outputs": [
    {
     "data": {
      "text/html": [
       "<div>\n",
       "<style scoped>\n",
       "    .dataframe tbody tr th:only-of-type {\n",
       "        vertical-align: middle;\n",
       "    }\n",
       "\n",
       "    .dataframe tbody tr th {\n",
       "        vertical-align: top;\n",
       "    }\n",
       "\n",
       "    .dataframe thead th {\n",
       "        text-align: right;\n",
       "    }\n",
       "</style>\n",
       "<table border=\"1\" class=\"dataframe\">\n",
       "  <thead>\n",
       "    <tr style=\"text-align: right;\">\n",
       "      <th></th>\n",
       "      <th>edition</th>\n",
       "      <th>edition_id</th>\n",
       "      <th>country_noc</th>\n",
       "      <th>sport</th>\n",
       "      <th>event</th>\n",
       "      <th>result_id</th>\n",
       "      <th>athlete</th>\n",
       "      <th>athlete_id</th>\n",
       "      <th>pos</th>\n",
       "      <th>medal</th>\n",
       "      <th>isTeamSport</th>\n",
       "      <th>sexo</th>\n",
       "      <th>medalPoint</th>\n",
       "    </tr>\n",
       "  </thead>\n",
       "  <tbody>\n",
       "    <tr>\n",
       "      <th>0</th>\n",
       "      <td>1908 Summer Olympics</td>\n",
       "      <td>5</td>\n",
       "      <td>ANZ</td>\n",
       "      <td>Athletics</td>\n",
       "      <td>100 metres, Men</td>\n",
       "      <td>56265</td>\n",
       "      <td>Ernest Hutcheon</td>\n",
       "      <td>64710</td>\n",
       "      <td>DNS</td>\n",
       "      <td>NaN</td>\n",
       "      <td>False</td>\n",
       "      <td>Masculino</td>\n",
       "      <td>0</td>\n",
       "    </tr>\n",
       "    <tr>\n",
       "      <th>1</th>\n",
       "      <td>1908 Summer Olympics</td>\n",
       "      <td>5</td>\n",
       "      <td>ANZ</td>\n",
       "      <td>Athletics</td>\n",
       "      <td>400 metres, Men</td>\n",
       "      <td>56313</td>\n",
       "      <td>Henry Murray</td>\n",
       "      <td>64756</td>\n",
       "      <td>DNS</td>\n",
       "      <td>NaN</td>\n",
       "      <td>False</td>\n",
       "      <td>Masculino</td>\n",
       "      <td>0</td>\n",
       "    </tr>\n",
       "    <tr>\n",
       "      <th>2</th>\n",
       "      <td>1908 Summer Olympics</td>\n",
       "      <td>5</td>\n",
       "      <td>ANZ</td>\n",
       "      <td>Athletics</td>\n",
       "      <td>800 metres, Men</td>\n",
       "      <td>56338</td>\n",
       "      <td>Harvey Sutton</td>\n",
       "      <td>64808</td>\n",
       "      <td>3 h8 r1/2</td>\n",
       "      <td>NaN</td>\n",
       "      <td>False</td>\n",
       "      <td>Masculino</td>\n",
       "      <td>0</td>\n",
       "    </tr>\n",
       "    <tr>\n",
       "      <th>3</th>\n",
       "      <td>1908 Summer Olympics</td>\n",
       "      <td>5</td>\n",
       "      <td>ANZ</td>\n",
       "      <td>Athletics</td>\n",
       "      <td>800 metres, Men</td>\n",
       "      <td>56338</td>\n",
       "      <td>Guy Haskins</td>\n",
       "      <td>922519</td>\n",
       "      <td>DNS</td>\n",
       "      <td>NaN</td>\n",
       "      <td>False</td>\n",
       "      <td>Masculino</td>\n",
       "      <td>0</td>\n",
       "    </tr>\n",
       "    <tr>\n",
       "      <th>4</th>\n",
       "      <td>1908 Summer Olympics</td>\n",
       "      <td>5</td>\n",
       "      <td>ANZ</td>\n",
       "      <td>Athletics</td>\n",
       "      <td>800 metres, Men</td>\n",
       "      <td>56338</td>\n",
       "      <td>Joseph Lynch</td>\n",
       "      <td>64735</td>\n",
       "      <td>DNS</td>\n",
       "      <td>NaN</td>\n",
       "      <td>False</td>\n",
       "      <td>Masculino</td>\n",
       "      <td>0</td>\n",
       "    </tr>\n",
       "    <tr>\n",
       "      <th>...</th>\n",
       "      <td>...</td>\n",
       "      <td>...</td>\n",
       "      <td>...</td>\n",
       "      <td>...</td>\n",
       "      <td>...</td>\n",
       "      <td>...</td>\n",
       "      <td>...</td>\n",
       "      <td>...</td>\n",
       "      <td>...</td>\n",
       "      <td>...</td>\n",
       "      <td>...</td>\n",
       "      <td>...</td>\n",
       "      <td>...</td>\n",
       "    </tr>\n",
       "    <tr>\n",
       "      <th>316829</th>\n",
       "      <td>2022 Winter Olympics</td>\n",
       "      <td>62</td>\n",
       "      <td>NED</td>\n",
       "      <td>Bobsleigh</td>\n",
       "      <td>Monobob, Women</td>\n",
       "      <td>19019671</td>\n",
       "      <td>Karlien Sleper</td>\n",
       "      <td>148662</td>\n",
       "      <td>16</td>\n",
       "      <td>NaN</td>\n",
       "      <td>False</td>\n",
       "      <td>Feminino</td>\n",
       "      <td>0</td>\n",
       "    </tr>\n",
       "    <tr>\n",
       "      <th>316830</th>\n",
       "      <td>2022 Winter Olympics</td>\n",
       "      <td>62</td>\n",
       "      <td>SVK</td>\n",
       "      <td>Bobsleigh</td>\n",
       "      <td>Monobob, Women</td>\n",
       "      <td>19019671</td>\n",
       "      <td>Viktória Čerňanská</td>\n",
       "      <td>138683</td>\n",
       "      <td>17</td>\n",
       "      <td>NaN</td>\n",
       "      <td>False</td>\n",
       "      <td>Feminino</td>\n",
       "      <td>0</td>\n",
       "    </tr>\n",
       "    <tr>\n",
       "      <th>316831</th>\n",
       "      <td>2022 Winter Olympics</td>\n",
       "      <td>62</td>\n",
       "      <td>KOR</td>\n",
       "      <td>Bobsleigh</td>\n",
       "      <td>Monobob, Women</td>\n",
       "      <td>19019671</td>\n",
       "      <td>Kim Yu-Ran</td>\n",
       "      <td>137542</td>\n",
       "      <td>18</td>\n",
       "      <td>NaN</td>\n",
       "      <td>False</td>\n",
       "      <td>Feminino</td>\n",
       "      <td>0</td>\n",
       "    </tr>\n",
       "    <tr>\n",
       "      <th>316832</th>\n",
       "      <td>2022 Winter Olympics</td>\n",
       "      <td>62</td>\n",
       "      <td>JAM</td>\n",
       "      <td>Bobsleigh</td>\n",
       "      <td>Monobob, Women</td>\n",
       "      <td>19019671</td>\n",
       "      <td>Jazmine Fenlator-Victorian</td>\n",
       "      <td>128682</td>\n",
       "      <td>19</td>\n",
       "      <td>NaN</td>\n",
       "      <td>False</td>\n",
       "      <td>Feminino</td>\n",
       "      <td>0</td>\n",
       "    </tr>\n",
       "    <tr>\n",
       "      <th>316833</th>\n",
       "      <td>2022 Winter Olympics</td>\n",
       "      <td>62</td>\n",
       "      <td>UKR</td>\n",
       "      <td>Bobsleigh</td>\n",
       "      <td>Monobob, Women</td>\n",
       "      <td>19019671</td>\n",
       "      <td>Lidiya Hunko</td>\n",
       "      <td>149047</td>\n",
       "      <td>20</td>\n",
       "      <td>NaN</td>\n",
       "      <td>False</td>\n",
       "      <td>Feminino</td>\n",
       "      <td>0</td>\n",
       "    </tr>\n",
       "  </tbody>\n",
       "</table>\n",
       "<p>316834 rows × 13 columns</p>\n",
       "</div>"
      ],
      "text/plain": [
       "                     edition  edition_id country_noc      sport  \\\n",
       "0       1908 Summer Olympics           5         ANZ  Athletics   \n",
       "1       1908 Summer Olympics           5         ANZ  Athletics   \n",
       "2       1908 Summer Olympics           5         ANZ  Athletics   \n",
       "3       1908 Summer Olympics           5         ANZ  Athletics   \n",
       "4       1908 Summer Olympics           5         ANZ  Athletics   \n",
       "...                      ...         ...         ...        ...   \n",
       "316829  2022 Winter Olympics          62         NED  Bobsleigh   \n",
       "316830  2022 Winter Olympics          62         SVK  Bobsleigh   \n",
       "316831  2022 Winter Olympics          62         KOR  Bobsleigh   \n",
       "316832  2022 Winter Olympics          62         JAM  Bobsleigh   \n",
       "316833  2022 Winter Olympics          62         UKR  Bobsleigh   \n",
       "\n",
       "                  event  result_id                     athlete  athlete_id  \\\n",
       "0       100 metres, Men      56265             Ernest Hutcheon       64710   \n",
       "1       400 metres, Men      56313                Henry Murray       64756   \n",
       "2       800 metres, Men      56338               Harvey Sutton       64808   \n",
       "3       800 metres, Men      56338                 Guy Haskins      922519   \n",
       "4       800 metres, Men      56338                Joseph Lynch       64735   \n",
       "...                 ...        ...                         ...         ...   \n",
       "316829   Monobob, Women   19019671              Karlien Sleper      148662   \n",
       "316830   Monobob, Women   19019671          Viktória Čerňanská      138683   \n",
       "316831   Monobob, Women   19019671                  Kim Yu-Ran      137542   \n",
       "316832   Monobob, Women   19019671  Jazmine Fenlator-Victorian      128682   \n",
       "316833   Monobob, Women   19019671                Lidiya Hunko      149047   \n",
       "\n",
       "              pos medal  isTeamSport       sexo  medalPoint  \n",
       "0             DNS   NaN        False  Masculino           0  \n",
       "1             DNS   NaN        False  Masculino           0  \n",
       "2       3 h8 r1/2   NaN        False  Masculino           0  \n",
       "3             DNS   NaN        False  Masculino           0  \n",
       "4             DNS   NaN        False  Masculino           0  \n",
       "...           ...   ...          ...        ...         ...  \n",
       "316829         16   NaN        False   Feminino           0  \n",
       "316830         17   NaN        False   Feminino           0  \n",
       "316831         18   NaN        False   Feminino           0  \n",
       "316832         19   NaN        False   Feminino           0  \n",
       "316833         20   NaN        False   Feminino           0  \n",
       "\n",
       "[316834 rows x 13 columns]"
      ]
     },
     "execution_count": 24,
     "metadata": {},
     "output_type": "execute_result"
    }
   ],
   "source": [
    "def extrairGenero(texto):\n",
    "    if \"Men\" in texto:\n",
    "        return \"Masculino\"\n",
    "    elif \"Women\" in texto:\n",
    "        return \"Feminino\"\n",
    "def medal(value):\n",
    "    if value ==\"Bronze\":\n",
    "        return 1\n",
    "    elif value ==\"Silver\":\n",
    "        return 2\n",
    "    elif value==\"Gold\":\n",
    "        return 3\n",
    "    else:\n",
    "        return 0\n",
    "\n",
    "modalidade=df[\"event\"]\n",
    "df[\"sexo\"]=df[\"event\"].apply(extrairGenero)\n",
    "df[\"medalPoint\"]=df[\"medal\"].apply(medal)\n",
    "df.to_csv(\"Base_DashBoard\", index=False)\n",
    "df"
   ]
  },
  {
   "cell_type": "markdown",
   "metadata": {},
   "source": [
    "## Analisando o desempenho dos atletas em cada esporte"
   ]
  },
  {
   "cell_type": "code",
   "execution_count": 25,
   "metadata": {},
   "outputs": [
    {
     "name": "stderr",
     "output_type": "stream",
     "text": [
      "C:\\Users\\rianf\\AppData\\Local\\Temp\\ipykernel_14960\\3919581966.py:10: FutureWarning:\n",
      "\n",
      "Series.fillna with 'method' is deprecated and will raise in a future version. Use obj.ffill() or obj.bfill() instead.\n",
      "\n"
     ]
    },
    {
     "data": {
      "application/vnd.plotly.v1+json": {
       "config": {
        "plotlyServerURL": "https://plot.ly"
       },
       "data": [
        {
         "alignmentgroup": "True",
         "hovertemplate": "sexo=Feminino<br>sport=%{x}<br>medalPoint=%{y}<extra></extra>",
         "legendgroup": "Feminino",
         "marker": {
          "color": "#636efa",
          "pattern": {
           "shape": ""
          }
         },
         "name": "Feminino",
         "offsetgroup": "Feminino",
         "orientation": "v",
         "showlegend": true,
         "textposition": "auto",
         "type": "bar",
         "x": [
          "Athletics",
          "Swimming",
          "Rowing",
          "Artistic Gymnastics",
          "Hockey",
          "Ice Hockey",
          "Football"
         ],
         "xaxis": "x",
         "y": [
          3047,
          3045,
          1582,
          1455,
          1106,
          888,
          874
         ],
         "yaxis": "y"
        },
        {
         "alignmentgroup": "True",
         "hovertemplate": "sexo=Masculino<br>sport=%{x}<br>medalPoint=%{y}<extra></extra>",
         "legendgroup": "Masculino",
         "marker": {
          "color": "#EF553B",
          "pattern": {
           "shape": ""
          }
         },
         "name": "Masculino",
         "offsetgroup": "Masculino",
         "orientation": "v",
         "showlegend": true,
         "textposition": "auto",
         "type": "bar",
         "x": [
          "Athletics",
          "Rowing",
          "Swimming",
          "Football",
          "Artistic Gymnastics",
          "Ice Hockey",
          "Hockey"
         ],
         "xaxis": "x",
         "y": [
          5979,
          4563,
          3617,
          3254,
          3149,
          2858,
          2448
         ],
         "yaxis": "y"
        }
       ],
       "layout": {
        "barmode": "relative",
        "legend": {
         "title": {
          "text": "sexo"
         },
         "tracegroupgap": 0
        },
        "margin": {
         "t": 60
        },
        "template": {
         "data": {
          "bar": [
           {
            "error_x": {
             "color": "#2a3f5f"
            },
            "error_y": {
             "color": "#2a3f5f"
            },
            "marker": {
             "line": {
              "color": "#E5ECF6",
              "width": 0.5
             },
             "pattern": {
              "fillmode": "overlay",
              "size": 10,
              "solidity": 0.2
             }
            },
            "type": "bar"
           }
          ],
          "barpolar": [
           {
            "marker": {
             "line": {
              "color": "#E5ECF6",
              "width": 0.5
             },
             "pattern": {
              "fillmode": "overlay",
              "size": 10,
              "solidity": 0.2
             }
            },
            "type": "barpolar"
           }
          ],
          "carpet": [
           {
            "aaxis": {
             "endlinecolor": "#2a3f5f",
             "gridcolor": "white",
             "linecolor": "white",
             "minorgridcolor": "white",
             "startlinecolor": "#2a3f5f"
            },
            "baxis": {
             "endlinecolor": "#2a3f5f",
             "gridcolor": "white",
             "linecolor": "white",
             "minorgridcolor": "white",
             "startlinecolor": "#2a3f5f"
            },
            "type": "carpet"
           }
          ],
          "choropleth": [
           {
            "colorbar": {
             "outlinewidth": 0,
             "ticks": ""
            },
            "type": "choropleth"
           }
          ],
          "contour": [
           {
            "colorbar": {
             "outlinewidth": 0,
             "ticks": ""
            },
            "colorscale": [
             [
              0,
              "#0d0887"
             ],
             [
              0.1111111111111111,
              "#46039f"
             ],
             [
              0.2222222222222222,
              "#7201a8"
             ],
             [
              0.3333333333333333,
              "#9c179e"
             ],
             [
              0.4444444444444444,
              "#bd3786"
             ],
             [
              0.5555555555555556,
              "#d8576b"
             ],
             [
              0.6666666666666666,
              "#ed7953"
             ],
             [
              0.7777777777777778,
              "#fb9f3a"
             ],
             [
              0.8888888888888888,
              "#fdca26"
             ],
             [
              1,
              "#f0f921"
             ]
            ],
            "type": "contour"
           }
          ],
          "contourcarpet": [
           {
            "colorbar": {
             "outlinewidth": 0,
             "ticks": ""
            },
            "type": "contourcarpet"
           }
          ],
          "heatmap": [
           {
            "colorbar": {
             "outlinewidth": 0,
             "ticks": ""
            },
            "colorscale": [
             [
              0,
              "#0d0887"
             ],
             [
              0.1111111111111111,
              "#46039f"
             ],
             [
              0.2222222222222222,
              "#7201a8"
             ],
             [
              0.3333333333333333,
              "#9c179e"
             ],
             [
              0.4444444444444444,
              "#bd3786"
             ],
             [
              0.5555555555555556,
              "#d8576b"
             ],
             [
              0.6666666666666666,
              "#ed7953"
             ],
             [
              0.7777777777777778,
              "#fb9f3a"
             ],
             [
              0.8888888888888888,
              "#fdca26"
             ],
             [
              1,
              "#f0f921"
             ]
            ],
            "type": "heatmap"
           }
          ],
          "heatmapgl": [
           {
            "colorbar": {
             "outlinewidth": 0,
             "ticks": ""
            },
            "colorscale": [
             [
              0,
              "#0d0887"
             ],
             [
              0.1111111111111111,
              "#46039f"
             ],
             [
              0.2222222222222222,
              "#7201a8"
             ],
             [
              0.3333333333333333,
              "#9c179e"
             ],
             [
              0.4444444444444444,
              "#bd3786"
             ],
             [
              0.5555555555555556,
              "#d8576b"
             ],
             [
              0.6666666666666666,
              "#ed7953"
             ],
             [
              0.7777777777777778,
              "#fb9f3a"
             ],
             [
              0.8888888888888888,
              "#fdca26"
             ],
             [
              1,
              "#f0f921"
             ]
            ],
            "type": "heatmapgl"
           }
          ],
          "histogram": [
           {
            "marker": {
             "pattern": {
              "fillmode": "overlay",
              "size": 10,
              "solidity": 0.2
             }
            },
            "type": "histogram"
           }
          ],
          "histogram2d": [
           {
            "colorbar": {
             "outlinewidth": 0,
             "ticks": ""
            },
            "colorscale": [
             [
              0,
              "#0d0887"
             ],
             [
              0.1111111111111111,
              "#46039f"
             ],
             [
              0.2222222222222222,
              "#7201a8"
             ],
             [
              0.3333333333333333,
              "#9c179e"
             ],
             [
              0.4444444444444444,
              "#bd3786"
             ],
             [
              0.5555555555555556,
              "#d8576b"
             ],
             [
              0.6666666666666666,
              "#ed7953"
             ],
             [
              0.7777777777777778,
              "#fb9f3a"
             ],
             [
              0.8888888888888888,
              "#fdca26"
             ],
             [
              1,
              "#f0f921"
             ]
            ],
            "type": "histogram2d"
           }
          ],
          "histogram2dcontour": [
           {
            "colorbar": {
             "outlinewidth": 0,
             "ticks": ""
            },
            "colorscale": [
             [
              0,
              "#0d0887"
             ],
             [
              0.1111111111111111,
              "#46039f"
             ],
             [
              0.2222222222222222,
              "#7201a8"
             ],
             [
              0.3333333333333333,
              "#9c179e"
             ],
             [
              0.4444444444444444,
              "#bd3786"
             ],
             [
              0.5555555555555556,
              "#d8576b"
             ],
             [
              0.6666666666666666,
              "#ed7953"
             ],
             [
              0.7777777777777778,
              "#fb9f3a"
             ],
             [
              0.8888888888888888,
              "#fdca26"
             ],
             [
              1,
              "#f0f921"
             ]
            ],
            "type": "histogram2dcontour"
           }
          ],
          "mesh3d": [
           {
            "colorbar": {
             "outlinewidth": 0,
             "ticks": ""
            },
            "type": "mesh3d"
           }
          ],
          "parcoords": [
           {
            "line": {
             "colorbar": {
              "outlinewidth": 0,
              "ticks": ""
             }
            },
            "type": "parcoords"
           }
          ],
          "pie": [
           {
            "automargin": true,
            "type": "pie"
           }
          ],
          "scatter": [
           {
            "fillpattern": {
             "fillmode": "overlay",
             "size": 10,
             "solidity": 0.2
            },
            "type": "scatter"
           }
          ],
          "scatter3d": [
           {
            "line": {
             "colorbar": {
              "outlinewidth": 0,
              "ticks": ""
             }
            },
            "marker": {
             "colorbar": {
              "outlinewidth": 0,
              "ticks": ""
             }
            },
            "type": "scatter3d"
           }
          ],
          "scattercarpet": [
           {
            "marker": {
             "colorbar": {
              "outlinewidth": 0,
              "ticks": ""
             }
            },
            "type": "scattercarpet"
           }
          ],
          "scattergeo": [
           {
            "marker": {
             "colorbar": {
              "outlinewidth": 0,
              "ticks": ""
             }
            },
            "type": "scattergeo"
           }
          ],
          "scattergl": [
           {
            "marker": {
             "colorbar": {
              "outlinewidth": 0,
              "ticks": ""
             }
            },
            "type": "scattergl"
           }
          ],
          "scattermapbox": [
           {
            "marker": {
             "colorbar": {
              "outlinewidth": 0,
              "ticks": ""
             }
            },
            "type": "scattermapbox"
           }
          ],
          "scatterpolar": [
           {
            "marker": {
             "colorbar": {
              "outlinewidth": 0,
              "ticks": ""
             }
            },
            "type": "scatterpolar"
           }
          ],
          "scatterpolargl": [
           {
            "marker": {
             "colorbar": {
              "outlinewidth": 0,
              "ticks": ""
             }
            },
            "type": "scatterpolargl"
           }
          ],
          "scatterternary": [
           {
            "marker": {
             "colorbar": {
              "outlinewidth": 0,
              "ticks": ""
             }
            },
            "type": "scatterternary"
           }
          ],
          "surface": [
           {
            "colorbar": {
             "outlinewidth": 0,
             "ticks": ""
            },
            "colorscale": [
             [
              0,
              "#0d0887"
             ],
             [
              0.1111111111111111,
              "#46039f"
             ],
             [
              0.2222222222222222,
              "#7201a8"
             ],
             [
              0.3333333333333333,
              "#9c179e"
             ],
             [
              0.4444444444444444,
              "#bd3786"
             ],
             [
              0.5555555555555556,
              "#d8576b"
             ],
             [
              0.6666666666666666,
              "#ed7953"
             ],
             [
              0.7777777777777778,
              "#fb9f3a"
             ],
             [
              0.8888888888888888,
              "#fdca26"
             ],
             [
              1,
              "#f0f921"
             ]
            ],
            "type": "surface"
           }
          ],
          "table": [
           {
            "cells": {
             "fill": {
              "color": "#EBF0F8"
             },
             "line": {
              "color": "white"
             }
            },
            "header": {
             "fill": {
              "color": "#C8D4E3"
             },
             "line": {
              "color": "white"
             }
            },
            "type": "table"
           }
          ]
         },
         "layout": {
          "annotationdefaults": {
           "arrowcolor": "#2a3f5f",
           "arrowhead": 0,
           "arrowwidth": 1
          },
          "autotypenumbers": "strict",
          "coloraxis": {
           "colorbar": {
            "outlinewidth": 0,
            "ticks": ""
           }
          },
          "colorscale": {
           "diverging": [
            [
             0,
             "#8e0152"
            ],
            [
             0.1,
             "#c51b7d"
            ],
            [
             0.2,
             "#de77ae"
            ],
            [
             0.3,
             "#f1b6da"
            ],
            [
             0.4,
             "#fde0ef"
            ],
            [
             0.5,
             "#f7f7f7"
            ],
            [
             0.6,
             "#e6f5d0"
            ],
            [
             0.7,
             "#b8e186"
            ],
            [
             0.8,
             "#7fbc41"
            ],
            [
             0.9,
             "#4d9221"
            ],
            [
             1,
             "#276419"
            ]
           ],
           "sequential": [
            [
             0,
             "#0d0887"
            ],
            [
             0.1111111111111111,
             "#46039f"
            ],
            [
             0.2222222222222222,
             "#7201a8"
            ],
            [
             0.3333333333333333,
             "#9c179e"
            ],
            [
             0.4444444444444444,
             "#bd3786"
            ],
            [
             0.5555555555555556,
             "#d8576b"
            ],
            [
             0.6666666666666666,
             "#ed7953"
            ],
            [
             0.7777777777777778,
             "#fb9f3a"
            ],
            [
             0.8888888888888888,
             "#fdca26"
            ],
            [
             1,
             "#f0f921"
            ]
           ],
           "sequentialminus": [
            [
             0,
             "#0d0887"
            ],
            [
             0.1111111111111111,
             "#46039f"
            ],
            [
             0.2222222222222222,
             "#7201a8"
            ],
            [
             0.3333333333333333,
             "#9c179e"
            ],
            [
             0.4444444444444444,
             "#bd3786"
            ],
            [
             0.5555555555555556,
             "#d8576b"
            ],
            [
             0.6666666666666666,
             "#ed7953"
            ],
            [
             0.7777777777777778,
             "#fb9f3a"
            ],
            [
             0.8888888888888888,
             "#fdca26"
            ],
            [
             1,
             "#f0f921"
            ]
           ]
          },
          "colorway": [
           "#636efa",
           "#EF553B",
           "#00cc96",
           "#ab63fa",
           "#FFA15A",
           "#19d3f3",
           "#FF6692",
           "#B6E880",
           "#FF97FF",
           "#FECB52"
          ],
          "font": {
           "color": "#2a3f5f"
          },
          "geo": {
           "bgcolor": "white",
           "lakecolor": "white",
           "landcolor": "#E5ECF6",
           "showlakes": true,
           "showland": true,
           "subunitcolor": "white"
          },
          "hoverlabel": {
           "align": "left"
          },
          "hovermode": "closest",
          "mapbox": {
           "style": "light"
          },
          "paper_bgcolor": "white",
          "plot_bgcolor": "#E5ECF6",
          "polar": {
           "angularaxis": {
            "gridcolor": "white",
            "linecolor": "white",
            "ticks": ""
           },
           "bgcolor": "#E5ECF6",
           "radialaxis": {
            "gridcolor": "white",
            "linecolor": "white",
            "ticks": ""
           }
          },
          "scene": {
           "xaxis": {
            "backgroundcolor": "#E5ECF6",
            "gridcolor": "white",
            "gridwidth": 2,
            "linecolor": "white",
            "showbackground": true,
            "ticks": "",
            "zerolinecolor": "white"
           },
           "yaxis": {
            "backgroundcolor": "#E5ECF6",
            "gridcolor": "white",
            "gridwidth": 2,
            "linecolor": "white",
            "showbackground": true,
            "ticks": "",
            "zerolinecolor": "white"
           },
           "zaxis": {
            "backgroundcolor": "#E5ECF6",
            "gridcolor": "white",
            "gridwidth": 2,
            "linecolor": "white",
            "showbackground": true,
            "ticks": "",
            "zerolinecolor": "white"
           }
          },
          "shapedefaults": {
           "line": {
            "color": "#2a3f5f"
           }
          },
          "ternary": {
           "aaxis": {
            "gridcolor": "white",
            "linecolor": "white",
            "ticks": ""
           },
           "baxis": {
            "gridcolor": "white",
            "linecolor": "white",
            "ticks": ""
           },
           "bgcolor": "#E5ECF6",
           "caxis": {
            "gridcolor": "white",
            "linecolor": "white",
            "ticks": ""
           }
          },
          "title": {
           "x": 0.05
          },
          "xaxis": {
           "automargin": true,
           "gridcolor": "white",
           "linecolor": "white",
           "ticks": "",
           "title": {
            "standoff": 15
           },
           "zerolinecolor": "white",
           "zerolinewidth": 2
          },
          "yaxis": {
           "automargin": true,
           "gridcolor": "white",
           "linecolor": "white",
           "ticks": "",
           "title": {
            "standoff": 15
           },
           "zerolinecolor": "white",
           "zerolinewidth": 2
          }
         }
        },
        "xaxis": {
         "anchor": "y",
         "domain": [
          0,
          1
         ],
         "title": {
          "text": "sport"
         }
        },
        "yaxis": {
         "anchor": "x",
         "domain": [
          0,
          1
         ],
         "title": {
          "text": "medalPoint"
         }
        }
       }
      }
     },
     "metadata": {},
     "output_type": "display_data"
    }
   ],
   "source": [
    "# Filtrar top 10 por sexo\n",
    "def doisSexos(grupo):\n",
    "    return len(grupo[\"sexo\"].unique()) ==2\n",
    "\n",
    "topFeminino=df[df[\"sexo\"]==\"Feminino\"][[\"sport\", \"sexo\", \"medalPoint\"]].groupby([\"sport\", \"sexo\"]).sum().sort_values(by=\"medalPoint\", ascending=False).reset_index().head(10)\n",
    "topMasculio=df[df[\"sexo\"]==\"Masculino\"][[\"sport\", \"sexo\", \"medalPoint\"]].groupby([\"sport\", \"sexo\"]).sum().sort_values(by=\"medalPoint\", ascending=False).reset_index().head(10)\n",
    "combine=pd.concat([topFeminino, topMasculio])\n",
    "esportesAmbosSexos=combine.groupby(\"sport\").filter(doisSexos)\n",
    "\n",
    "df['sexo'] = df['sexo'].fillna(method='bfill')\n",
    "\n",
    "# Gerar o gráfico\n",
    "fig = px.bar(esportesAmbosSexos, x=\"sport\", y=\"medalPoint\", color=\"sexo\")\n",
    "fig.show()"
   ]
  },
  {
   "cell_type": "markdown",
   "metadata": {},
   "source": [
    "# Relatorio\n",
    "\n",
    "## Melhores Paises das Olimpiadas\n",
    "### -USA\n",
    "### -URS\n",
    "### -GER\n",
    "\n",
    "## Melhores Atletas     \n",
    "### 1\tMichael Phelps\t\n",
    "### 2\tLarisa Latynina\t\n",
    "### 3\tMarit Bjørgen\t\n",
    "### 4\tJenny Thompson\t\n",
    "\n",
    "## Quantidades de medalhas dos USA\n",
    "\n",
    "###\tGold\t2942\n",
    "###\tSilver\t1855\n",
    "###\tBronze\t1497\n",
    "\n",
    "## O melhor desempenos baseados nas medalhas e seu valor nas Olimpíadas:\n",
    "\n",
    "### Os homens foram os que tiveram os melhores resultados nas Olimpíadas\n",
    "\n"
   ]
  }
 ],
 "metadata": {
  "kernelspec": {
   "display_name": "base",
   "language": "python",
   "name": "python3"
  },
  "language_info": {
   "codemirror_mode": {
    "name": "ipython",
    "version": 3
   },
   "file_extension": ".py",
   "mimetype": "text/x-python",
   "name": "python",
   "nbconvert_exporter": "python",
   "pygments_lexer": "ipython3",
   "version": "3.12.4"
  }
 },
 "nbformat": 4,
 "nbformat_minor": 2
}
